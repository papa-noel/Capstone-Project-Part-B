{
 "cells": [
  {
   "cell_type": "code",
   "execution_count": 1,
   "metadata": {},
   "outputs": [],
   "source": [
    "from dotenv import load_dotenv, dotenv_values\n",
    "import os\n",
    "import requests\n",
    "import io\n",
    "from PIL import Image\n",
    "import json\n",
    "import hashlib\n",
    "import hmac\n",
    "import base64\n",
    "import urllib.parse as urlparse"
   ]
  },
  {
   "cell_type": "code",
   "execution_count": 2,
   "metadata": {},
   "outputs": [],
   "source": [
    "load_dotenv()\n",
    "\n",
    "API_KEY = os.environ.get(\"API_KEY\")\n",
    "SECRET = os.environ.get(\"SECRET\")"
   ]
  },
  {
   "cell_type": "code",
   "execution_count": 5,
   "metadata": {},
   "outputs": [],
   "source": [
    "\n",
    "def sign_url(input_url=None, secret=None):\n",
    "    \"\"\"\n",
    "    https://developers.google.com/maps/digital-signature\n",
    "    Sign a request URL with a URL signing secret.\n",
    "    \"\"\"\n",
    "    if not input_url or not secret:\n",
    "        raise Exception(\"Both input_url and secret are required\")\n",
    "\n",
    "    url = urlparse.urlparse(input_url)\n",
    "    url_to_sign = url.path + \"?\" + url.query\n",
    "    decoded_key = base64.urlsafe_b64decode(secret)\n",
    "    signature = hmac.new(decoded_key, str.encode(url_to_sign), hashlib.sha1)\n",
    "    encoded_signature = base64.urlsafe_b64encode(signature.digest())\n",
    "    original_url = url.scheme + \"://\" + url.netloc + url.path + \"?\" + url.query\n",
    "\n",
    "    return original_url + \"&signature=\" + encoded_signature.decode()\n",
    "\n",
    "def save_image(latitude, longitude, zoom=19, size=\"640x640\", scale=2, key=API_KEY, secret=SECRET):\n",
    "\n",
    "    # Construct the URL for satellite tile request\n",
    "    satellite_url = f\"https://maps.googleapis.com/maps/api/staticmap?center={latitude},{longitude}&zoom={zoom}&size={size}&scale={scale}&maptype=satellite&key={key}\"\n",
    "    satellite_url = sign_url(satellite_url, secret)\n",
    "\n",
    "    response = requests.get(satellite_url)\n",
    "\n",
    "    # Check the response\n",
    "    if response.status_code == 200:\n",
    "        # Save the satellite tile image\n",
    "        img_name = f'satellite_{latitude}_{longitude}_{zoom}_{scale}.png'\n",
    "        img_path = img_name\n",
    "        with open(img_path, 'wb') as file:\n",
    "            file.write(response.content)\n",
    "        print(f\"Satellite tile image saved as '{img_name}'\")\n",
    "    else:\n",
    "        print(f\"Failed to fetch satellite tile. Status code: {response.status_code}\")\n"
   ]
  },
  {
   "cell_type": "code",
   "execution_count": 31,
   "metadata": {},
   "outputs": [
    {
     "name": "stdout",
     "output_type": "stream",
     "text": [
      "Satellite tile image saved as 'satellite_32.8062484_-117.0119538_19_2.png'\n"
     ]
    }
   ],
   "source": [
    "save_image(32.8062484,-117.0119538)"
   ]
  },
  {
   "cell_type": "code",
   "execution_count": 32,
   "metadata": {},
   "outputs": [],
   "source": [
    "images_coordinates = [\n",
    "    (32.8353107,-117.1939721), \n",
    "    (32.8353005,-117.1921541),\n",
    "    (32.835252,-117.1905991),\n",
    "    (32.8371028,-117.1880858),\n",
    "    (32.8385846,-117.1869454), #5\n",
    "    (32.839643,-117.1870219),\n",
    "    (32.8264453,-117.1832565),\n",
    "    (32.7844412,-117.1668956),\n",
    "    (32.7862222,-117.1661486),\n",
    "    (32.7937215,-117.1754918), #10\n",
    "    (32.7952621,-117.1754151),\n",
    "    (32.7950809,-117.1676967),\n",
    "    (32.7806203,-117.2044161),\n",
    "    (32.7768463,-117.2016394),\n",
    "    (32.7760929,-117.1929139), #15\n",
    "    (32.776029,-117.1959058),\n",
    "    (32.7667972,-117.1910794),\n",
    "    (32.7919718,-117.0908485),\n",
    "    (32.7913077,-117.0900226),\n",
    "    (32.7965164,-117.0835183),\n",
    "    (32.7974655,-117.0695503), #20\n",
    "    (32.7956924,-117.0663954),\n",
    "    (32.8051316,-117.0219805),\n",
    "    (32.8063108,-117.0209906),\n",
    "    (32.8052109,-117.0193553),\n",
    "    (32.8062484,-117.0119538) #25\n",
    "]"
   ]
  }
 ],
 "metadata": {
  "kernelspec": {
   "display_name": "base",
   "language": "python",
   "name": "python3"
  },
  "language_info": {
   "codemirror_mode": {
    "name": "ipython",
    "version": 3
   },
   "file_extension": ".py",
   "mimetype": "text/x-python",
   "name": "python",
   "nbconvert_exporter": "python",
   "pygments_lexer": "ipython3",
   "version": "3.9.12"
  }
 },
 "nbformat": 4,
 "nbformat_minor": 2
}
